{
  "nbformat": 4,
  "nbformat_minor": 0,
  "metadata": {
    "colab": {
      "name": "anime-downloader-colab.ipynb",
      "provenance": [],
      "mount_file_id": "1vGQji-T97yhyfz2BsULd3yzShb7WWaaG",
      "authorship_tag": "ABX9TyOu0ryyJZhd87Tf4R5FxLUT",
      "include_colab_link": true
    },
    "kernelspec": {
      "name": "python3",
      "display_name": "Python 3"
    }
  },
  "cells": [
    {
      "cell_type": "markdown",
      "metadata": {
        "id": "view-in-github",
        "colab_type": "text"
      },
      "source": [
        "<a href=\"https://colab.research.google.com/github/paramphy/colab-anime-downloader/blob/main/anime_downloader_colab.ipynb\" target=\"_parent\"><img src=\"https://colab.research.google.com/assets/colab-badge.svg\" alt=\"Open In Colab\"/></a>"
      ]
    },
    {
      "cell_type": "code",
      "metadata": {
        "id": "MDeQv7nT9hwP",
        "outputId": "d2f73316-15f7-49d7-fd64-c8bc28588858",
        "colab": {
          "base_uri": "https://localhost:8080/"
        }
      },
      "source": [
        "from google.colab import drive\n",
        "drive.mount('/gdrive')"
      ],
      "execution_count": 1,
      "outputs": [
        {
          "output_type": "stream",
          "text": [
            "Mounted at /gdrive\n"
          ],
          "name": "stdout"
        }
      ]
    },
    {
      "cell_type": "code",
      "metadata": {
        "id": "IBqNxrPQ4wdX",
        "outputId": "0855a487-a5de-45c2-d262-813ebc0fa918",
        "colab": {
          "base_uri": "https://localhost:8080/"
        }
      },
      "source": [
        "!sudo apt-get install aria2"
      ],
      "execution_count": 2,
      "outputs": [
        {
          "output_type": "stream",
          "text": [
            "Reading package lists... Done\n",
            "Building dependency tree       \n",
            "Reading state information... Done\n",
            "The following additional packages will be installed:\n",
            "  libc-ares2\n",
            "The following NEW packages will be installed:\n",
            "  aria2 libc-ares2\n",
            "0 upgraded, 2 newly installed, 0 to remove and 11 not upgraded.\n",
            "Need to get 1,274 kB of archives.\n",
            "After this operation, 4,912 kB of additional disk space will be used.\n",
            "Get:1 http://archive.ubuntu.com/ubuntu bionic/main amd64 libc-ares2 amd64 1.14.0-1 [37.1 kB]\n",
            "Get:2 http://archive.ubuntu.com/ubuntu bionic/universe amd64 aria2 amd64 1.33.1-1 [1,236 kB]\n",
            "Fetched 1,274 kB in 2s (612 kB/s)\n",
            "debconf: unable to initialize frontend: Dialog\n",
            "debconf: (No usable dialog-like program is installed, so the dialog based frontend cannot be used. at /usr/share/perl5/Debconf/FrontEnd/Dialog.pm line 76, <> line 2.)\n",
            "debconf: falling back to frontend: Readline\n",
            "debconf: unable to initialize frontend: Readline\n",
            "debconf: (This frontend requires a controlling tty.)\n",
            "debconf: falling back to frontend: Teletype\n",
            "dpkg-preconfigure: unable to re-open stdin: \n",
            "Selecting previously unselected package libc-ares2:amd64.\n",
            "(Reading database ... 144628 files and directories currently installed.)\n",
            "Preparing to unpack .../libc-ares2_1.14.0-1_amd64.deb ...\n",
            "Unpacking libc-ares2:amd64 (1.14.0-1) ...\n",
            "Selecting previously unselected package aria2.\n",
            "Preparing to unpack .../aria2_1.33.1-1_amd64.deb ...\n",
            "Unpacking aria2 (1.33.1-1) ...\n",
            "Setting up libc-ares2:amd64 (1.14.0-1) ...\n",
            "Setting up aria2 (1.33.1-1) ...\n",
            "Processing triggers for man-db (2.8.3-2ubuntu0.1) ...\n",
            "Processing triggers for libc-bin (2.27-3ubuntu1.2) ...\n",
            "/sbin/ldconfig.real: /usr/local/lib/python3.6/dist-packages/ideep4py/lib/libmkldnn.so.0 is not a symbolic link\n",
            "\n"
          ],
          "name": "stdout"
        }
      ]
    },
    {
      "cell_type": "code",
      "metadata": {
        "id": "2XACGFEk7dF8",
        "outputId": "295f83dd-d9ec-4c5f-f295-a3b748ce2005",
        "colab": {
          "base_uri": "https://localhost:8080/"
        }
      },
      "source": [
        "!pip3 install anime-downloader"
      ],
      "execution_count": 3,
      "outputs": [
        {
          "output_type": "stream",
          "text": [
            "Collecting anime-downloader\n",
            "\u001b[?25l  Downloading https://files.pythonhosted.org/packages/45/33/7b8734e7ca50c014c8edd262e68957376a452f528f960f0aa72aa473497c/anime_downloader-5.0.1-py2.py3-none-any.whl (130kB)\n",
            "\r\u001b[K     |██▌                             | 10kB 17.5MB/s eta 0:00:01\r\u001b[K     |█████                           | 20kB 1.8MB/s eta 0:00:01\r\u001b[K     |███████▌                        | 30kB 2.2MB/s eta 0:00:01\r\u001b[K     |██████████                      | 40kB 2.5MB/s eta 0:00:01\r\u001b[K     |████████████▌                   | 51kB 2.0MB/s eta 0:00:01\r\u001b[K     |███████████████                 | 61kB 2.3MB/s eta 0:00:01\r\u001b[K     |█████████████████▌              | 71kB 2.5MB/s eta 0:00:01\r\u001b[K     |████████████████████            | 81kB 2.7MB/s eta 0:00:01\r\u001b[K     |██████████████████████▌         | 92kB 2.9MB/s eta 0:00:01\r\u001b[K     |█████████████████████████       | 102kB 2.8MB/s eta 0:00:01\r\u001b[K     |███████████████████████████▌    | 112kB 2.8MB/s eta 0:00:01\r\u001b[K     |██████████████████████████████  | 122kB 2.8MB/s eta 0:00:01\r\u001b[K     |████████████████████████████████| 133kB 2.8MB/s \n",
            "\u001b[?25hCollecting cfscrape>=2.0.5\n",
            "  Downloading https://files.pythonhosted.org/packages/74/6b/410751a88b7c868f147c721446b83148329d2936707df2433a4fed1d78da/cfscrape-2.1.1-py3-none-any.whl\n",
            "Collecting coloredlogs>=10.0\n",
            "\u001b[?25l  Downloading https://files.pythonhosted.org/packages/5c/2f/12747be360d6dea432e7b5dfae3419132cb008535cfe614af73b9ce2643b/coloredlogs-14.0-py2.py3-none-any.whl (43kB)\n",
            "\u001b[K     |████████████████████████████████| 51kB 5.5MB/s \n",
            "\u001b[?25hRequirement already satisfied: tabulate>=0.8.3 in /usr/local/lib/python3.6/dist-packages (from anime-downloader) (0.8.7)\n",
            "Collecting fuzzywuzzy>=0.17.0\n",
            "  Downloading https://files.pythonhosted.org/packages/43/ff/74f23998ad2f93b945c0309f825be92e04e0348e062026998b5eefef4c33/fuzzywuzzy-0.18.0-py2.py3-none-any.whl\n",
            "Collecting pySmartDL>=1.3.4\n",
            "  Downloading https://files.pythonhosted.org/packages/ac/6a/582286ea74c54363cba30413214767904f0a239e12253c3817feaf78453f/pySmartDL-1.3.4-py3-none-any.whl\n",
            "Requirement already satisfied: beautifulsoup4>=4.6.0 in /usr/local/lib/python3.6/dist-packages (from anime-downloader) (4.6.3)\n",
            "Requirement already satisfied: requests>=2.18.4 in /usr/local/lib/python3.6/dist-packages (from anime-downloader) (2.23.0)\n",
            "Collecting requests-cache>=0.4.13\n",
            "  Downloading https://files.pythonhosted.org/packages/7f/55/9b1c40eb83c16d8fc79c5f6c2ffade04208b080670fbfc35e0a5effb5a92/requests_cache-0.5.2-py2.py3-none-any.whl\n",
            "Requirement already satisfied: Click>=6.7 in /usr/local/lib/python3.6/dist-packages (from anime-downloader) (7.1.2)\n",
            "Collecting pycryptodome>=3.8.2\n",
            "\u001b[?25l  Downloading https://files.pythonhosted.org/packages/17/55/17fa0b55849dc135f7bc400993a9206bf06d1b5d9520b0bc8d47c57aaef5/pycryptodome-3.9.8-cp36-cp36m-manylinux1_x86_64.whl (13.7MB)\n",
            "\u001b[K     |████████████████████████████████| 13.7MB 306kB/s \n",
            "\u001b[?25hCollecting humanfriendly>=7.1\n",
            "\u001b[?25l  Downloading https://files.pythonhosted.org/packages/8e/2d/2f1b0a780b8c948c06c74c8c80e68ac354da52397ba432a1c5ac1923c3af/humanfriendly-8.2-py2.py3-none-any.whl (86kB)\n",
            "\u001b[K     |████████████████████████████████| 92kB 8.4MB/s \n",
            "\u001b[?25hRequirement already satisfied: idna<3,>=2.5 in /usr/local/lib/python3.6/dist-packages (from requests>=2.18.4->anime-downloader) (2.10)\n",
            "Requirement already satisfied: urllib3!=1.25.0,!=1.25.1,<1.26,>=1.21.1 in /usr/local/lib/python3.6/dist-packages (from requests>=2.18.4->anime-downloader) (1.24.3)\n",
            "Requirement already satisfied: certifi>=2017.4.17 in /usr/local/lib/python3.6/dist-packages (from requests>=2.18.4->anime-downloader) (2020.6.20)\n",
            "Requirement already satisfied: chardet<4,>=3.0.2 in /usr/local/lib/python3.6/dist-packages (from requests>=2.18.4->anime-downloader) (3.0.4)\n",
            "Installing collected packages: cfscrape, humanfriendly, coloredlogs, fuzzywuzzy, pySmartDL, requests-cache, pycryptodome, anime-downloader\n",
            "Successfully installed anime-downloader-5.0.1 cfscrape-2.1.1 coloredlogs-14.0 fuzzywuzzy-0.18.0 humanfriendly-8.2 pySmartDL-1.3.4 pycryptodome-3.9.8 requests-cache-0.5.2\n"
          ],
          "name": "stdout"
        }
      ]
    },
    {
      "cell_type": "code",
      "metadata": {
        "id": "DDTNbhXX4EoN",
        "outputId": "032001a7-5134-44c2-f36c-bce720114170",
        "colab": {
          "base_uri": "https://localhost:8080/"
        }
      },
      "source": [
        "!anime dl --help"
      ],
      "execution_count": 4,
      "outputs": [
        {
          "output_type": "stream",
          "text": [
            "Usage: anime dl [OPTIONS] ANIME_URL\n",
            "\n",
            "  Download the anime using the url or search for\n",
            "  it.\n",
            "\n",
            "Options:\n",
            "  -e, --episodes <int>:<int>      Range of anime\n",
            "                                  you want to\n",
            "                                  download in the\n",
            "                                  form\n",
            "                                  <start>:<end>\n",
            "\n",
            "  -u, --url                       If flag is set,\n",
            "                                  prints the\n",
            "                                  stream url\n",
            "                                  instead of\n",
            "                                  downloading\n",
            "\n",
            "  --play PLAYER                   Streams in the\n",
            "                                  specified player\n",
            "\n",
            "  --skip-download                 Retrieve without\n",
            "                                  downloading\n",
            "\n",
            "  --download-dir PATH             Specify the\n",
            "                                  directory to\n",
            "                                  download to\n",
            "\n",
            "  -q, --quality [360p|480p|720p|1080p]\n",
            "                                  Specify the\n",
            "                                  quality of\n",
            "                                  episode.\n",
            "                                  Default-720p\n",
            "\n",
            "  -fq, --fallback-qualities TEXT  Specify the\n",
            "                                  order of\n",
            "                                  fallback\n",
            "                                  qualities as a\n",
            "                                  list.\n",
            "\n",
            "  -f, --force-download            Force downloads\n",
            "                                  even if file\n",
            "                                  exists\n",
            "\n",
            "  -ff, --file-format FORMAT STRING\n",
            "                                  Format for how\n",
            "                                  the files to be\n",
            "                                  downloaded be\n",
            "                                  named.\n",
            "\n",
            "  -p, --provider [4anime|anitube|anime8|animebinge|gurminder|animedaisuki|animeflix|animeflv|animefreak|animefree|animefrenzy|animekisa|animetake|animeonline360|animeout|animerush|animesimple|animevibe|animixplay|darkanime|dbanimes|erai-raws|fastani|itsaturday|justdubs|kickass|kissanimex|kisscartoon|nyaa|putlockers|ryuanime|twist.moe|tenshi.moe|vidstream|voiranime|vostfree]\n",
            "                                  The anime\n",
            "                                  provider\n",
            "                                  (website) for\n",
            "                                  search.\n",
            "\n",
            "  -xd, --external-downloader DOWNLOAD COMMAND\n",
            "                                  Use an external\n",
            "                                  downloader\n",
            "                                  command to\n",
            "                                  download. Use\n",
            "                                  \"{aria2}\" to use\n",
            "                                  aria2 as\n",
            "                                  downloader. See\n",
            "                                  github wiki.\n",
            "\n",
            "  --chunk-size INTEGER            Chunk size for\n",
            "                                  downloading in\n",
            "                                  chunks(in MB).\n",
            "                                  Use this if you\n",
            "                                  experience\n",
            "                                  throttling.\n",
            "\n",
            "  --disable-ssl                   Disable\n",
            "                                  verifying the\n",
            "                                  SSL certificate,\n",
            "                                  if flag is set\n",
            "\n",
            "  -c, --choice INTEGER            Choice to start\n",
            "                                  downloading\n",
            "                                  given anime\n",
            "                                  number\n",
            "\n",
            "  --skip-fillers                  Skip downloading\n",
            "                                  of fillers.\n",
            "\n",
            "  --speed-limit <int>K/M          Set the speed\n",
            "                                  limit (in KB/s\n",
            "                                  or MB/s) for\n",
            "                                  downloading when\n",
            "                                  using aria2c\n",
            "\n",
            "  --help                          Show this\n",
            "                                  message and\n",
            "                                  exit.\n"
          ],
          "name": "stdout"
        }
      ]
    },
    {
      "cell_type": "code",
      "metadata": {
        "id": "gEcKNT-U13tB"
      },
      "source": [
        "#@title Example form fields\n",
        "#@markdown Forms support many types of fields.\n",
        "Search_Anime = 'code ghess'  #@param {type: \"string\"}\n",
        "#@markdown ---\n"
      ],
      "execution_count": 8,
      "outputs": []
    },
    {
      "cell_type": "code",
      "metadata": {
        "id": "WG7Ys4ET8Hxt",
        "outputId": "3b985c32-15d1-43c4-c08d-e9c82e6b4b79",
        "colab": {
          "base_uri": "https://localhost:8080/"
        }
      },
      "source": [
        "!anime dl Search_Anime \n"
      ],
      "execution_count": 9,
      "outputs": [
        {
          "output_type": "stream",
          "text": [
            "\u001b[32manime\u001b[0m: anime-downloader 5.0.1\n",
            "+--------+-----------+--------+\n",
            "|      5 | A-Channel |        |\n",
            "|      4 | Rec       |        |\n",
            "|      3 | Bleach    |        |\n",
            "|      2 | C³        |        |\n",
            "|      1 | Air       |        |\n",
            "|--------+-----------+--------|\n",
            "|   SlNo | Title     | Meta   |\n",
            "+--------+-----------+--------+\n",
            "Enter the anime no: [1]: Aborted!\n",
            "^C\n",
            "cp: failed to access '/content/drive/My Drive': Transport endpoint is not connected\n"
          ],
          "name": "stdout"
        }
      ]
    },
    {
      "cell_type": "code",
      "metadata": {
        "id": "wTTy87Hf770L"
      },
      "source": [
        "!cp -avr /content/high-school-of-the-dead/ '/content/drive/My Drive'"
      ],
      "execution_count": null,
      "outputs": []
    }
  ]
}