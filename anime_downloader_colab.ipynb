{
  "nbformat": 4,
  "nbformat_minor": 0,
  "metadata": {
    "colab": {
      "name": "anime-downloader-colab.ipynb",
      "provenance": [],
      "include_colab_link": true
    },
    "kernelspec": {
      "display_name": "Python 3",
      "name": "python3"
    }
  },
  "cells": [
    {
      "cell_type": "markdown",
      "metadata": {
        "id": "view-in-github",
        "colab_type": "text"
      },
      "source": [
        "<a href=\"https://colab.research.google.com/github/paramphy/colab-anime-downloader/blob/main/anime_downloader_colab.ipynb\" target=\"_parent\"><img src=\"https://colab.research.google.com/assets/colab-badge.svg\" alt=\"Open In Colab\"/></a>"
      ]
    },
    {
      "cell_type": "code",
      "metadata": {
        "colab": {
          "base_uri": "https://localhost:8080/"
        },
        "id": "MDeQv7nT9hwP",
        "outputId": "b76e6dc4-c5eb-43bd-f29f-7a7253e65dff"
      },
      "source": [
        "from google.colab import drive\n",
        "drive.mount('/gdrive')"
      ],
      "execution_count": 1,
      "outputs": [
        {
          "output_type": "stream",
          "text": [
            "Mounted at /gdrive\n"
          ],
          "name": "stdout"
        }
      ]
    },
    {
      "cell_type": "code",
      "metadata": {
        "colab": {
          "base_uri": "https://localhost:8080/"
        },
        "id": "IBqNxrPQ4wdX",
        "outputId": "43001f4c-cdb5-4943-e8b4-45443377022c"
      },
      "source": [
        "!sudo apt-get install aria2"
      ],
      "execution_count": 2,
      "outputs": [
        {
          "output_type": "stream",
          "text": [
            "Reading package lists... Done\n",
            "Building dependency tree       \n",
            "Reading state information... Done\n",
            "The following additional packages will be installed:\n",
            "  libc-ares2\n",
            "The following NEW packages will be installed:\n",
            "  aria2 libc-ares2\n",
            "0 upgraded, 2 newly installed, 0 to remove and 15 not upgraded.\n",
            "Need to get 1,274 kB of archives.\n",
            "After this operation, 4,912 kB of additional disk space will be used.\n",
            "Get:1 http://archive.ubuntu.com/ubuntu bionic/main amd64 libc-ares2 amd64 1.14.0-1 [37.1 kB]\n",
            "Get:2 http://archive.ubuntu.com/ubuntu bionic/universe amd64 aria2 amd64 1.33.1-1 [1,236 kB]\n",
            "Fetched 1,274 kB in 1s (1,327 kB/s)\n",
            "debconf: unable to initialize frontend: Dialog\n",
            "debconf: (No usable dialog-like program is installed, so the dialog based frontend cannot be used. at /usr/share/perl5/Debconf/FrontEnd/Dialog.pm line 76, <> line 2.)\n",
            "debconf: falling back to frontend: Readline\n",
            "debconf: unable to initialize frontend: Readline\n",
            "debconf: (This frontend requires a controlling tty.)\n",
            "debconf: falling back to frontend: Teletype\n",
            "dpkg-preconfigure: unable to re-open stdin: \n",
            "Selecting previously unselected package libc-ares2:amd64.\n",
            "(Reading database ... 145480 files and directories currently installed.)\n",
            "Preparing to unpack .../libc-ares2_1.14.0-1_amd64.deb ...\n",
            "Unpacking libc-ares2:amd64 (1.14.0-1) ...\n",
            "Selecting previously unselected package aria2.\n",
            "Preparing to unpack .../aria2_1.33.1-1_amd64.deb ...\n",
            "Unpacking aria2 (1.33.1-1) ...\n",
            "Setting up libc-ares2:amd64 (1.14.0-1) ...\n",
            "Setting up aria2 (1.33.1-1) ...\n",
            "Processing triggers for man-db (2.8.3-2ubuntu0.1) ...\n",
            "Processing triggers for libc-bin (2.27-3ubuntu1.2) ...\n",
            "/sbin/ldconfig.real: /usr/local/lib/python3.6/dist-packages/ideep4py/lib/libmkldnn.so.0 is not a symbolic link\n",
            "\n"
          ],
          "name": "stdout"
        }
      ]
    },
    {
      "cell_type": "code",
      "metadata": {
        "colab": {
          "base_uri": "https://localhost:8080/"
        },
        "id": "2XACGFEk7dF8",
        "outputId": "903541b9-0db4-4a5b-9c6e-232e5c1ba49c"
      },
      "source": [
        "!pip3 install anime-downloader"
      ],
      "execution_count": 3,
      "outputs": [
        {
          "output_type": "stream",
          "text": [
            "Collecting anime-downloader\n",
            "\u001b[?25l  Downloading https://files.pythonhosted.org/packages/28/30/271887f589415936c5605272b33ec3a52924aa0f25ca297b567f441e2239/anime_downloader-5.0.5-py3-none-any.whl (134kB)\n",
            "\u001b[K     |████████████████████████████████| 143kB 5.4MB/s \n",
            "\u001b[?25hCollecting coloredlogs>=10.0\n",
            "\u001b[?25l  Downloading https://files.pythonhosted.org/packages/84/a6/837dbf6eac344cb74f0ba86b79e8180855570af3e26bcb1ea5f650cf944c/coloredlogs-15.0-py2.py3-none-any.whl (45kB)\n",
            "\u001b[K     |████████████████████████████████| 51kB 5.9MB/s \n",
            "\u001b[?25hRequirement already satisfied: beautifulsoup4>=4.6.0 in /usr/local/lib/python3.6/dist-packages (from anime-downloader) (4.6.3)\n",
            "Collecting pycryptodome>=3.8.2\n",
            "\u001b[?25l  Downloading https://files.pythonhosted.org/packages/2b/6f/7e38d7c97fbbc3987539c804282c33f56b6b07381bf2390deead696440c5/pycryptodome-3.9.9-cp36-cp36m-manylinux1_x86_64.whl (13.7MB)\n",
            "\u001b[K     |████████████████████████████████| 13.7MB 317kB/s \n",
            "\u001b[?25hRequirement already satisfied: Click>=6.7 in /usr/local/lib/python3.6/dist-packages (from anime-downloader) (7.1.2)\n",
            "Collecting pySmartDL>=1.3.4\n",
            "  Downloading https://files.pythonhosted.org/packages/ac/6a/582286ea74c54363cba30413214767904f0a239e12253c3817feaf78453f/pySmartDL-1.3.4-py3-none-any.whl\n",
            "Collecting fuzzywuzzy>=0.17.0\n",
            "  Downloading https://files.pythonhosted.org/packages/43/ff/74f23998ad2f93b945c0309f825be92e04e0348e062026998b5eefef4c33/fuzzywuzzy-0.18.0-py2.py3-none-any.whl\n",
            "Collecting cfscrape>=2.0.5\n",
            "  Downloading https://files.pythonhosted.org/packages/74/6b/410751a88b7c868f147c721446b83148329d2936707df2433a4fed1d78da/cfscrape-2.1.1-py3-none-any.whl\n",
            "Requirement already satisfied: tabulate>=0.8.3 in /usr/local/lib/python3.6/dist-packages (from anime-downloader) (0.8.7)\n",
            "Collecting requests-cache>=0.4.13\n",
            "  Downloading https://files.pythonhosted.org/packages/7f/55/9b1c40eb83c16d8fc79c5f6c2ffade04208b080670fbfc35e0a5effb5a92/requests_cache-0.5.2-py2.py3-none-any.whl\n",
            "Requirement already satisfied: requests>=2.18.4 in /usr/local/lib/python3.6/dist-packages (from anime-downloader) (2.23.0)\n",
            "Collecting humanfriendly>=9.1\n",
            "\u001b[?25l  Downloading https://files.pythonhosted.org/packages/93/66/363d01a81da2108a5cf446daf619779f06d49a0c4426dd02b40734f10e2f/humanfriendly-9.1-py2.py3-none-any.whl (86kB)\n",
            "\u001b[K     |████████████████████████████████| 92kB 8.8MB/s \n",
            "\u001b[?25hRequirement already satisfied: idna<3,>=2.5 in /usr/local/lib/python3.6/dist-packages (from requests>=2.18.4->anime-downloader) (2.10)\n",
            "Requirement already satisfied: chardet<4,>=3.0.2 in /usr/local/lib/python3.6/dist-packages (from requests>=2.18.4->anime-downloader) (3.0.4)\n",
            "Requirement already satisfied: certifi>=2017.4.17 in /usr/local/lib/python3.6/dist-packages (from requests>=2.18.4->anime-downloader) (2020.12.5)\n",
            "Requirement already satisfied: urllib3!=1.25.0,!=1.25.1,<1.26,>=1.21.1 in /usr/local/lib/python3.6/dist-packages (from requests>=2.18.4->anime-downloader) (1.24.3)\n",
            "Installing collected packages: humanfriendly, coloredlogs, pycryptodome, pySmartDL, fuzzywuzzy, cfscrape, requests-cache, anime-downloader\n",
            "Successfully installed anime-downloader-5.0.5 cfscrape-2.1.1 coloredlogs-15.0 fuzzywuzzy-0.18.0 humanfriendly-9.1 pySmartDL-1.3.4 pycryptodome-3.9.9 requests-cache-0.5.2\n"
          ],
          "name": "stdout"
        }
      ]
    },
    {
      "cell_type": "code",
      "metadata": {
        "colab": {
          "base_uri": "https://localhost:8080/"
        },
        "id": "DDTNbhXX4EoN",
        "outputId": "434c55cd-e3b0-494e-d291-1a56f2b8141c"
      },
      "source": [
        "!anime dl --help"
      ],
      "execution_count": 4,
      "outputs": [
        {
          "output_type": "stream",
          "text": [
            "Usage: anime dl [OPTIONS] ANIME_URL\n",
            "\n",
            "  Download the anime using the url or search for\n",
            "  it.\n",
            "\n",
            "Options:\n",
            "  -e, --episodes <int>:<int>      Range of anime\n",
            "                                  you want to\n",
            "                                  download in the\n",
            "                                  form\n",
            "                                  <start>:<end>\n",
            "\n",
            "  -u, --url                       If flag is set,\n",
            "                                  prints the\n",
            "                                  stream url\n",
            "                                  instead of\n",
            "                                  downloading\n",
            "\n",
            "  --play PLAYER                   Streams in the\n",
            "                                  specified player\n",
            "\n",
            "  --skip-download                 Retrieve without\n",
            "                                  downloading\n",
            "\n",
            "  --download-dir PATH             Specify the\n",
            "                                  directory to\n",
            "                                  download to\n",
            "\n",
            "  -q, --quality [360p|480p|720p|1080p]\n",
            "                                  Specify the\n",
            "                                  quality of\n",
            "                                  episode.\n",
            "                                  Default-720p\n",
            "\n",
            "  -fq, --fallback-qualities TEXT  Specify the\n",
            "                                  order of\n",
            "                                  fallback\n",
            "                                  qualities as a\n",
            "                                  list.\n",
            "\n",
            "  -f, --force-download            Force downloads\n",
            "                                  even if file\n",
            "                                  exists\n",
            "\n",
            "  -ff, --file-format FORMAT STRING\n",
            "                                  Format for how\n",
            "                                  the files to be\n",
            "                                  downloaded be\n",
            "                                  named.\n",
            "\n",
            "  -p, --provider [4anime|anitube|anime8|animebinge|gurminder|animedaisuki|animeflix|animeflv|animefreak|animefree|animefrenzy|animekisa|animetake|animeonline360|animeout|animerush|animesimple|animesuge|animevibe|animixplay|darkanime|dbanimes|erai-raws|egyanime|fastani|itsaturday|justdubs|kickass|kissanimex|kisscartoon|9anime|nyaa|putlockers|ryuanime|subsplease|twist.moe|tenshi.moe|vidstream|voiranime|vostfree]\n",
            "                                  The anime\n",
            "                                  provider\n",
            "                                  (website) for\n",
            "                                  search.\n",
            "\n",
            "  -xd, --external-downloader DOWNLOAD COMMAND\n",
            "                                  Use an external\n",
            "                                  downloader\n",
            "                                  command to\n",
            "                                  download. Use\n",
            "                                  \"{aria2}\" to use\n",
            "                                  aria2 as\n",
            "                                  downloader. See\n",
            "                                  github wiki.\n",
            "\n",
            "  --chunk-size INTEGER            Chunk size for\n",
            "                                  downloading in\n",
            "                                  chunks(in MB).\n",
            "                                  Use this if you\n",
            "                                  experience\n",
            "                                  throttling.\n",
            "\n",
            "  --disable-ssl                   Disable\n",
            "                                  verifying the\n",
            "                                  SSL certificate,\n",
            "                                  if flag is set\n",
            "\n",
            "  -c, --choice INTEGER            Choice to start\n",
            "                                  downloading\n",
            "                                  given anime\n",
            "                                  number\n",
            "\n",
            "  --skip-fillers                  Skip downloading\n",
            "                                  of fillers.\n",
            "\n",
            "  --speed-limit <int>K/M          Set the speed\n",
            "                                  limit (in KB/s\n",
            "                                  or MB/s) for\n",
            "                                  downloading when\n",
            "                                  using aria2c\n",
            "\n",
            "  --help                          Show this\n",
            "                                  message and\n",
            "                                  exit.\n"
          ],
          "name": "stdout"
        }
      ]
    },
    {
      "cell_type": "code",
      "metadata": {
        "id": "gEcKNT-U13tB"
      },
      "source": [
        "#@title Example form fields\n",
        "#@markdown Forms support many types of fields.\n",
        "Search_Anime = 'Gangsta.'  #@param {type: \"string\"}\n",
        "#@markdown ---\n"
      ],
      "execution_count": null,
      "outputs": []
    },
    {
      "cell_type": "code",
      "metadata": {
        "colab": {
          "base_uri": "https://localhost:8080/"
        },
        "id": "WG7Ys4ET8Hxt",
        "outputId": "71578d74-64e8-474c-f602-6b994fbfc618"
      },
      "source": [
        "!anime dl \"parasite\""
      ],
      "execution_count": null,
      "outputs": [
        {
          "output_type": "stream",
          "text": [
            "\u001b[32manime\u001b[0m: anime-downloader 5.0.5\n",
            "+--------+----------------------------------------+--------+\n",
            "|      5 | Natsu no Arashi!                       |        |\n",
            "|      4 | Death Parade                           |        |\n",
            "|      3 | Arte                                   |        |\n",
            "|      2 | Paradise Kiss                          |        |\n",
            "|      1 | Rakuen Tsuihou: Expelled from Paradise |        |\n",
            "|--------+----------------------------------------+--------|\n",
            "|   SlNo | Title                                  | Meta   |\n",
            "+--------+----------------------------------------+--------+\n",
            "Enter the anime no: [1]: 1\n",
            "\u001b[32manime\u001b[0m: Selected Rakuen Tsuihou: Expelled from Paradise\n",
            "\u001b[32manime\u001b[0m: Extracting episode info from page\n",
            "\u001b[32manime\u001b[0m: Found anime: rakuen-tsuihou-expelled-from-paradise\n",
            "INFO:anime_downloader.commands.dl:Found anime: rakuen-tsuihou-expelled-from-paradise\n",
            "\u001b[32manime\u001b[0m: Downloading to /content\n",
            "INFO:anime_downloader.commands.dl:Downloading to /content\n",
            "\u001b[0m\n",
            "01/01 06:23:41 [\u001b[1;31mERROR\u001b[0m] CUID#10 - Download aborted. URI=https://twist.moe/anime/rakuentsuihou/[GJM-Underwater]%20Rakuen%20Tsuihou%20-%20Expelled%20from%20Paradise%20(BD%201080p)%20[6703C528].mp4\n",
            "Exception: [AbstractCommand.cc:351] errorCode=29 URI=https://edge-24.cdn.bunny.sh/anime/rakuentsuihou/[GJM-Underwater]%20Rakuen%20Tsuihou%20-%20Expelled%20from%20Paradise%20(BD%201080p)%20[6703C528].mp4\n",
            "  -> [HttpSkipResponseCommand.cc:231] errorCode=29 The response status is not successful. status=503\n",
            "\u001b[0m\n",
            "01/01 06:23:42 [\u001b[1;31mERROR\u001b[0m] CUID#18 - Download aborted. URI=https://twist.moe/anime/rakuentsuihou/[GJM-Underwater]%20Rakuen%20Tsuihou%20-%20Expelled%20from%20Paradise%20(BD%201080p)%20[6703C528].mp4\n",
            "Exception: [AbstractCommand.cc:351] errorCode=29 URI=https://edge-24.cdn.bunny.sh/anime/rakuentsuihou/[GJM-Underwater]%20Rakuen%20Tsuihou%20-%20Expelled%20from%20Paradise%20(BD%201080p)%20[6703C528].mp4\n",
            "  -> [HttpSkipResponseCommand.cc:231] errorCode=29 The response status is not successful. status=503\n",
            "\n",
            "01/01 06:23:42 [\u001b[1;31mERROR\u001b[0m] CUID#19 - Download aborted. URI=https://twist.moe/anime/rakuentsuihou/[GJM-Underwater]%20Rakuen%20Tsuihou%20-%20Expelled%20from%20Paradise%20(BD%201080p)%20[6703C528].mp4\n",
            "Exception: [AbstractCommand.cc:351] errorCode=29 URI=https://edge-24.cdn.bunny.sh/anime/rakuentsuihou/[GJM-Underwater]%20Rakuen%20Tsuihou%20-%20Expelled%20from%20Paradise%20(BD%201080p)%20[6703C528].mp4\n",
            "  -> [HttpSkipResponseCommand.cc:231] errorCode=29 The response status is not successful. status=503\n",
            "\n",
            "01/01 06:23:42 [\u001b[1;31mERROR\u001b[0m] CUID#15 - Download aborted. URI=https://twist.moe/anime/rakuentsuihou/[GJM-Underwater]%20Rakuen%20Tsuihou%20-%20Expelled%20from%20Paradise%20(BD%201080p)%20[6703C528].mp4\n",
            "Exception: [AbstractCommand.cc:351] errorCode=29 URI=https://edge-24.cdn.bunny.sh/anime/rakuentsuihou/[GJM-Underwater]%20Rakuen%20Tsuihou%20-%20Expelled%20from%20Paradise%20(BD%201080p)%20[6703C528].mp4\n",
            "  -> [HttpSkipResponseCommand.cc:231] errorCode=29 The response status is not successful. status=503\n",
            "\n",
            "01/01 06:23:42 [\u001b[1;31mERROR\u001b[0m] CUID#16 - Download aborted. URI=https://twist.moe/anime/rakuentsuihou/[GJM-Underwater]%20Rakuen%20Tsuihou%20-%20Expelled%20from%20Paradise%20(BD%201080p)%20[6703C528].mp4\n",
            "Exception: [AbstractCommand.cc:351] errorCode=29 URI=https://edge-24.cdn.bunny.sh/anime/rakuentsuihou/[GJM-Underwater]%20Rakuen%20Tsuihou%20-%20Expelled%20from%20Paradise%20(BD%201080p)%20[6703C528].mp4\n",
            "  -> [HttpSkipResponseCommand.cc:231] errorCode=29 The response status is not successful. status=503\n",
            "\n",
            "01/01 06:23:42 [\u001b[1;31mERROR\u001b[0m] CUID#14 - Download aborted. URI=https://twist.moe/anime/rakuentsuihou/[GJM-Underwater]%20Rakuen%20Tsuihou%20-%20Expelled%20from%20Paradise%20(BD%201080p)%20[6703C528].mp4\n",
            "Exception: [AbstractCommand.cc:351] errorCode=29 URI=https://edge-24.cdn.bunny.sh/anime/rakuentsuihou/[GJM-Underwater]%20Rakuen%20Tsuihou%20-%20Expelled%20from%20Paradise%20(BD%201080p)%20[6703C528].mp4\n",
            "  -> [HttpSkipResponseCommand.cc:231] errorCode=29 The response status is not successful. status=503\n",
            "\n",
            "01/01 06:23:42 [\u001b[1;31mERROR\u001b[0m] CUID#13 - Download aborted. URI=https://twist.moe/anime/rakuentsuihou/[GJM-Underwater]%20Rakuen%20Tsuihou%20-%20Expelled%20from%20Paradise%20(BD%201080p)%20[6703C528].mp4\n",
            "Exception: [AbstractCommand.cc:351] errorCode=29 URI=https://edge-24.cdn.bunny.sh/anime/rakuentsuihou/[GJM-Underwater]%20Rakuen%20Tsuihou%20-%20Expelled%20from%20Paradise%20(BD%201080p)%20[6703C528].mp4\n",
            "  -> [HttpSkipResponseCommand.cc:231] errorCode=29 The response status is not successful. status=503\n",
            "\n",
            "01/01 06:23:42 [\u001b[1;31mERROR\u001b[0m] CUID#11 - Download aborted. URI=https://twist.moe/anime/rakuentsuihou/[GJM-Underwater]%20Rakuen%20Tsuihou%20-%20Expelled%20from%20Paradise%20(BD%201080p)%20[6703C528].mp4\n",
            "Exception: [AbstractCommand.cc:351] errorCode=29 URI=https://edge-24.cdn.bunny.sh/anime/rakuentsuihou/[GJM-Underwater]%20Rakuen%20Tsuihou%20-%20Expelled%20from%20Paradise%20(BD%201080p)%20[6703C528].mp4\n",
            "  -> [HttpSkipResponseCommand.cc:231] errorCode=29 The response status is not successful. status=503\n",
            "\n",
            "01/01 06:23:42 [\u001b[1;31mERROR\u001b[0m] CUID#9 - Download aborted. URI=https://twist.moe/anime/rakuentsuihou/[GJM-Underwater]%20Rakuen%20Tsuihou%20-%20Expelled%20from%20Paradise%20(BD%201080p)%20[6703C528].mp4\n",
            "Exception: [AbstractCommand.cc:351] errorCode=29 URI=https://edge-24.cdn.bunny.sh/anime/rakuentsuihou/[GJM-Underwater]%20Rakuen%20Tsuihou%20-%20Expelled%20from%20Paradise%20(BD%201080p)%20[6703C528].mp4\n",
            "  -> [HttpSkipResponseCommand.cc:231] errorCode=29 The response status is not successful. status=503\n",
            "\u001b[0m\n",
            "01/01 06:23:46 [\u001b[1;31mERROR\u001b[0m] CUID#12 - Download aborted. URI=https://twist.moe/anime/rakuentsuihou/[GJM-Underwater]%20Rakuen%20Tsuihou%20-%20Expelled%20from%20Paradise%20(BD%201080p)%20[6703C528].mp4\n",
            "Exception: [AbstractCommand.cc:351] errorCode=29 URI=https://edge-24.cdn.bunny.sh/anime/rakuentsuihou/[GJM-Underwater]%20Rakuen%20Tsuihou%20-%20Expelled%20from%20Paradise%20(BD%201080p)%20[6703C528].mp4\n",
            "  -> [HttpSkipResponseCommand.cc:231] errorCode=29 The response status is not successful. status=503\n",
            " *** Download Progress Summary as of Fri Jan  1 06:24:40 2021 *** \n",
            "=\n",
            "[#d036d3 231MiB/2.7GiB(8%) CN:2 DL:2.3MiB ETA:18m9s]\n",
            "FILE: /content/rakuen-tsuihou-expelled-from-paradise/rakuen-tsuihou-expelled-from-paradise_1.mp4\n",
            "-\n",
            "\n",
            " *** Download Progress Summary as of Fri Jan  1 06:25:41 2021 *** \n",
            "=\n",
            "[#d036d3 414MiB/2.7GiB(14%) CN:2 DL:3.0MiB ETA:13m6s]\n",
            "FILE: /content/rakuen-tsuihou-expelled-from-paradise/rakuen-tsuihou-expelled-from-paradise_1.mp4\n",
            "-\n",
            "\n",
            " *** Download Progress Summary as of Fri Jan  1 06:26:42 2021 *** \n",
            "=\n",
            "[#d036d3 587MiB/2.7GiB(20%) CN:2 DL:3.0MiB ETA:11m59s]\n",
            "FILE: /content/rakuen-tsuihou-expelled-from-paradise/rakuen-tsuihou-expelled-from-paradise_1.mp4\n",
            "-\n",
            "\n",
            " *** Download Progress Summary as of Fri Jan  1 06:27:42 2021 *** \n",
            "=\n",
            "[#d036d3 726MiB/2.7GiB(25%) CN:2 DL:2.2MiB ETA:15m16s]\n",
            "FILE: /content/rakuen-tsuihou-expelled-from-paradise/rakuen-tsuihou-expelled-from-paradise_1.mp4\n",
            "-\n",
            "\n",
            " *** Download Progress Summary as of Fri Jan  1 06:28:43 2021 *** \n",
            "=\n",
            "[#d036d3 906MiB/2.7GiB(32%) CN:2 DL:2.9MiB ETA:10m49s]\n",
            "FILE: /content/rakuen-tsuihou-expelled-from-paradise/rakuen-tsuihou-expelled-from-paradise_1.mp4\n",
            "-\n",
            "\n",
            " *** Download Progress Summary as of Fri Jan  1 06:29:43 2021 *** \n",
            "=\n",
            "[#d036d3 1.0GiB/2.7GiB(37%) CN:2 DL:3.1MiB ETA:9m17s]\n",
            "FILE: /content/rakuen-tsuihou-expelled-from-paradise/rakuen-tsuihou-expelled-from-paradise_1.mp4\n",
            "-\n",
            "\n",
            " *** Download Progress Summary as of Fri Jan  1 06:30:44 2021 *** \n",
            "=\n",
            "[#d036d3 1.2GiB/2.7GiB(44%) CN:2 DL:2.9MiB ETA:8m44s]\n",
            "FILE: /content/rakuen-tsuihou-expelled-from-paradise/rakuen-tsuihou-expelled-from-paradise_1.mp4\n",
            "-\n",
            "\n",
            " *** Download Progress Summary as of Fri Jan  1 06:31:44 2021 *** \n",
            "=\n",
            "[#d036d3 1.3GiB/2.7GiB(50%) CN:2 DL:3.2MiB ETA:7m14s]\n",
            "FILE: /content/rakuen-tsuihou-expelled-from-paradise/rakuen-tsuihou-expelled-from-paradise_1.mp4\n",
            "-\n",
            "\n",
            " *** Download Progress Summary as of Fri Jan  1 06:32:44 2021 *** \n",
            "=\n",
            "[#d036d3 1.5GiB/2.7GiB(56%) CN:2 DL:3.0MiB ETA:6m36s]\n",
            "FILE: /content/rakuen-tsuihou-expelled-from-paradise/rakuen-tsuihou-expelled-from-paradise_1.mp4\n",
            "-\n",
            "\n",
            " *** Download Progress Summary as of Fri Jan  1 06:33:45 2021 *** \n",
            "=\n",
            "[#d036d3 1.7GiB/2.7GiB(62%) CN:2 DL:2.4MiB ETA:7m8s]\n",
            "FILE: /content/rakuen-tsuihou-expelled-from-paradise/rakuen-tsuihou-expelled-from-paradise_1.mp4\n",
            "-\n",
            "\n",
            " *** Download Progress Summary as of Fri Jan  1 06:34:46 2021 *** \n",
            "=\n",
            "[#d036d3 1.9GiB/2.7GiB(69%) CN:2 DL:3.1MiB ETA:4m35s]\n",
            "FILE: /content/rakuen-tsuihou-expelled-from-paradise/rakuen-tsuihou-expelled-from-paradise_1.mp4\n",
            "-\n",
            "\n",
            " *** Download Progress Summary as of Fri Jan  1 06:35:46 2021 *** \n",
            "=\n",
            "[#d036d3 2.0GiB/2.7GiB(75%) CN:2 DL:2.4MiB ETA:4m38s]\n",
            "FILE: /content/rakuen-tsuihou-expelled-from-paradise/rakuen-tsuihou-expelled-from-paradise_1.mp4\n",
            "-\n",
            "\n",
            "\u001b[0m"
          ],
          "name": "stdout"
        }
      ]
    },
    {
      "cell_type": "code",
      "metadata": {
        "colab": {
          "base_uri": "https://localhost:8080/"
        },
        "id": "wTTy87Hf770L",
        "outputId": "d08b637d-2827-415d-ad5d-8e8837b81600"
      },
      "source": [
        "!cp -avr /content/rakuen-tsuihou-expelled-from-paradise /gdrive/MyDrive"
      ],
      "execution_count": 10,
      "outputs": [
        {
          "output_type": "stream",
          "text": [
            "'/content/high-school-dxd/high-school-dxd_01.mp4' -> '/gdrive/MyDrive/high-school-dxd/high-school-dxd_01.mp4'\n",
            "'/content/high-school-dxd/high-school-dxd_02.mp4' -> '/gdrive/MyDrive/high-school-dxd/high-school-dxd_02.mp4'\n",
            "'/content/high-school-dxd/high-school-dxd_04.mp4' -> '/gdrive/MyDrive/high-school-dxd/high-school-dxd_04.mp4'\n",
            "'/content/high-school-dxd/high-school-dxd_05.mp4' -> '/gdrive/MyDrive/high-school-dxd/high-school-dxd_05.mp4'\n",
            "'/content/high-school-dxd/high-school-dxd_06.mp4' -> '/gdrive/MyDrive/high-school-dxd/high-school-dxd_06.mp4'\n",
            "'/content/high-school-dxd/high-school-dxd_07.mp4' -> '/gdrive/MyDrive/high-school-dxd/high-school-dxd_07.mp4'\n",
            "'/content/high-school-dxd/high-school-dxd_08.mp4' -> '/gdrive/MyDrive/high-school-dxd/high-school-dxd_08.mp4'\n",
            "'/content/high-school-dxd/high-school-dxd_09.mp4' -> '/gdrive/MyDrive/high-school-dxd/high-school-dxd_09.mp4'\n",
            "'/content/high-school-dxd/high-school-dxd_10.mp4' -> '/gdrive/MyDrive/high-school-dxd/high-school-dxd_10.mp4'\n",
            "'/content/high-school-dxd/high-school-dxd_11.mp4' -> '/gdrive/MyDrive/high-school-dxd/high-school-dxd_11.mp4'\n",
            "'/content/high-school-dxd/high-school-dxd_12.mp4' -> '/gdrive/MyDrive/high-school-dxd/high-school-dxd_12.mp4'\n"
          ],
          "name": "stdout"
        }
      ]
    },
    {
      "cell_type": "code",
      "metadata": {
        "id": "XwlH2QOapapN"
      },
      "source": [
        "!pip install moviepy"
      ],
      "execution_count": null,
      "outputs": []
    },
    {
      "cell_type": "code",
      "metadata": {
        "id": "f7cRP3hqp7T5"
      },
      "source": [
        "import moviepy.editor as mp\r\n",
        "clip = mp.VideoFileClip(\"Housefull4.mp4\")\r\n",
        "clip_resized = clip.resize(height = 360)\r\n",
        "clip_resized.write_videofile(\"Housefull4_Resized.mp4\")"
      ],
      "execution_count": null,
      "outputs": []
    }
  ]
}